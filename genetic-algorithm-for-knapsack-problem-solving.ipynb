{
 "cells": [
  {
   "cell_type": "code",
   "execution_count": 1,
   "id": "4fe46656",
   "metadata": {
    "_cell_guid": "b1076dfc-b9ad-4769-8c92-a6c4dae69d19",
    "_uuid": "8f2839f25d086af736a60e9eeb907d3b93b6e0e5",
    "execution": {
     "iopub.execute_input": "2023-08-02T05:51:14.948214Z",
     "iopub.status.busy": "2023-08-02T05:51:14.947455Z",
     "iopub.status.idle": "2023-08-02T05:51:16.485330Z",
     "shell.execute_reply": "2023-08-02T05:51:16.484396Z"
    },
    "papermill": {
     "duration": 1.54547,
     "end_time": "2023-08-02T05:51:16.488179",
     "exception": false,
     "start_time": "2023-08-02T05:51:14.942709",
     "status": "completed"
    },
    "tags": []
   },
   "outputs": [
    {
     "name": "stdout",
     "output_type": "stream",
     "text": [
      "Best Solution: [1, 1, 1, 1, 0, 0, 1]\n",
      "Best Fitness: 33\n"
     ]
    }
   ],
   "source": [
    "import random\n",
    "\n",
    "# Knapsack Problem parameters\n",
    "items = [\n",
    "    {\"name\": \"Item 1\", \"weight\": 5, \"value\": 7},\n",
    "    {\"name\": \"Item 2\", \"weight\": 8, \"value\": 8},\n",
    "    {\"name\": \"Item 3\", \"weight\": 3, \"value\": 4},\n",
    "    {\"name\": \"Item 4\", \"weight\": 2, \"value\": 10},\n",
    "    {\"name\": \"Item 5\", \"weight\": 7, \"value\": 4},\n",
    "    {\"name\": \"Item 6\", \"weight\": 9, \"value\": 6},\n",
    "    {\"name\": \"Item 7\", \"weight\": 4, \"value\": 4},\n",
    "]\n",
    "\n",
    "knapsack_capacity = 22\n",
    "\n",
    "# Genetic Algorithm parameters\n",
    "population_size = 100\n",
    "mutation_rate = 0.1\n",
    "num_generations = 100\n",
    "\n",
    "# Create initial population\n",
    "def create_individual(): \n",
    "    # Generate a random binary string of the same length as the items list\n",
    "    return [random.randint(0, 1) for i in range(len(items))]\n",
    "\n",
    "def create_population():  \n",
    "    # Create a population of random individuals\n",
    "    return [create_individual() for _ in range(population_size)]\n",
    "\n",
    "# Evaluate fitness of an individual\n",
    "def evaluate_fitness(individual):\n",
    "    # Calculate the total value and weight of the knapsack for the given individual\n",
    "    total_value = 0\n",
    "    total_weight = 0\n",
    "    for i in range(len(items)):\n",
    "        if individual[i] == 1:\n",
    "            total_value += items[i]['value']\n",
    "            total_weight += items[i]['weight']\n",
    "    # If the total weight exceeds the knapsack capacity, set the value to 0 (invalid solution)\n",
    "    if total_weight > knapsack_capacity:\n",
    "        total_value = 0\n",
    "    return total_value\n",
    "\n",
    "# Select parents for crossover using a roulette wheel selection\n",
    "def select_parents(population):\n",
    "    fitness_values = [evaluate_fitness(individual) for individual in population]\n",
    "    total_fitness = sum(fitness_values)\n",
    "    probabilities = [fitness / total_fitness for fitness in fitness_values]\n",
    "    parents = random.choices(population, weights=probabilities, k=2)\n",
    "    return parents[0], parents[1]\n",
    "\n",
    "# Perform crossover using a single-point crossover\n",
    "def crossover(parent1, parent2):\n",
    "    crossover_point = random.randint(1, len(parent1)-1)\n",
    "    child1 = parent1[:crossover_point] + parent2[crossover_point:]\n",
    "    child2 = parent2[:crossover_point] + parent1[crossover_point:]\n",
    "    return child1, child2\n",
    "\n",
    "# Perform mutation by flipping bits with a given probability\n",
    "def mutate(individual):\n",
    "    for i in range(len(individual)):\n",
    "        if random.random() < mutation_rate:\n",
    "            individual[i] = 1 - individual[i]\n",
    "\n",
    "# Run the genetic algorithm\n",
    "def genetic_algorithm():\n",
    "    population = create_population()\n",
    "\n",
    "    for _ in range(num_generations):\n",
    "        new_population = []\n",
    "\n",
    "        # Create new individuals through crossover and mutation\n",
    "        for _ in range(population_size // 2):\n",
    "            parent1, parent2 = select_parents(population)\n",
    "            child1, child2 = crossover(parent1, parent2)\n",
    "            mutate(child1)\n",
    "            mutate(child2)\n",
    "            new_population.extend([child1, child2])\n",
    "\n",
    "        population = new_population\n",
    "\n",
    "    # Find the best individual (highest fitness) in the final population\n",
    "    best_individual = max(population, key=evaluate_fitness)\n",
    "    best_fitness = evaluate_fitness(best_individual)\n",
    "    return best_individual, best_fitness\n",
    "\n",
    "# Run the genetic algorithm and print the results\n",
    "best_solution, best_fitness = genetic_algorithm()\n",
    "print(\"Best Solution:\", best_solution)\n",
    "print(\"Best Fitness:\", best_fitness)\n"
   ]
  },
  {
   "cell_type": "markdown",
   "id": "fdb57a47",
   "metadata": {
    "papermill": {
     "duration": 0.002175,
     "end_time": "2023-08-02T05:51:16.493076",
     "exception": false,
     "start_time": "2023-08-02T05:51:16.490901",
     "status": "completed"
    },
    "tags": []
   },
   "source": [
    "Explanation:\n",
    "\n",
    "1. The code sets up the Knapsack Problem parameters, including the items with their weight and value, as well as the knapsack's capacity.\n",
    "\n",
    "2. The Genetic Algorithm parameters are specified, such as the population size, mutation rate, and the number of generations (iterations).\n",
    "\n",
    "3. The functions `create_individual()` and `create_population()` are used to create random individuals and generate an initial population of random individuals, respectively.\n",
    "\n",
    "4. The function `evaluate_fitness(individual)` calculates the fitness of an individual, which is the total value of the items in the knapsack. If the total weight of the items in the knapsack exceeds the knapsack's capacity, the fitness is set to 0, indicating an invalid solution.\n",
    "\n",
    "5. The `select_parents(population)` function uses the Roulette Wheel Selection method to select two parents from the population based on their fitness values.\n",
    "\n",
    "6. The `crossover(parent1, parent2)` function performs single-point crossover to create two new children from two parent individuals.\n",
    "\n",
    "7. The `mutate(individual)` function applies bit-flip mutation to an individual with a given probability.\n",
    "\n",
    "8. The `genetic_algorithm()` function runs the genetic algorithm for a specified number of generations. In each generation, it selects parents, performs crossover and mutation, and creates a new population.\n",
    "\n",
    "9. Finally, the best individual (solution) with the highest fitness is identified, and the best solution and fitness are printed.\n",
    "\n",
    "Note: This implementation can be further improved by adjusting the genetic algorithm parameters, such as population size, mutation rate, and number of generations, to find better solutions more effectively. Additionally, other selection methods, crossover techniques, or mutation strategies can be explored to potentially enhance the algorithm's performance.\n"
   ]
  },
  {
   "cell_type": "code",
   "execution_count": null,
   "id": "e0b436e2",
   "metadata": {
    "papermill": {
     "duration": 0.002041,
     "end_time": "2023-08-02T05:51:16.497593",
     "exception": false,
     "start_time": "2023-08-02T05:51:16.495552",
     "status": "completed"
    },
    "tags": []
   },
   "outputs": [],
   "source": []
  }
 ],
 "metadata": {
  "kernelspec": {
   "display_name": "Python 3",
   "language": "python",
   "name": "python3"
  },
  "language_info": {
   "codemirror_mode": {
    "name": "ipython",
    "version": 3
   },
   "file_extension": ".py",
   "mimetype": "text/x-python",
   "name": "python",
   "nbconvert_exporter": "python",
   "pygments_lexer": "ipython3",
   "version": "3.10.12"
  },
  "papermill": {
   "default_parameters": {},
   "duration": 14.739093,
   "end_time": "2023-08-02T05:51:17.422652",
   "environment_variables": {},
   "exception": null,
   "input_path": "__notebook__.ipynb",
   "output_path": "__notebook__.ipynb",
   "parameters": {},
   "start_time": "2023-08-02T05:51:02.683559",
   "version": "2.4.0"
  }
 },
 "nbformat": 4,
 "nbformat_minor": 5
}
